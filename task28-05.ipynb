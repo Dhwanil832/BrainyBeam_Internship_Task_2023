{
  "cells": [
    {
      "cell_type": "markdown",
      "metadata": {
        "id": "jZsJ-MbZ0qgA"
      },
      "source": [
        "Task-1"
      ]
    },
    {
      "cell_type": "code",
      "execution_count": 3,
      "metadata": {
        "colab": {
          "base_uri": "https://localhost:8080/"
        },
        "id": "anMpsJSYz3kC",
        "outputId": "13821686-ae0c-4105-c3d2-11a0acc2af56"
      },
      "outputs": [
        {
          "name": "stdout",
          "output_type": "stream",
          "text": [
            "['This', 'is', 'a', 'sentence', '.']\n"
          ]
        }
      ],
      "source": [
        "import nltk\n",
        "\n",
        "def tokenize_sentence(sentence):\n",
        "    tokens = nltk.word_tokenize(sentence)\n",
        "    return tokens\n",
        "\n",
        "# Example\n",
        "\n",
        "sentence = \"This is a sentence.\"\n",
        "tokens = tokenize_sentence(sentence)\n",
        "print(tokens)"
      ]
    },
    {
      "cell_type": "markdown",
      "metadata": {
        "id": "S22RsLND0v6S"
      },
      "source": [
        "Task-2"
      ]
    },
    {
      "cell_type": "code",
      "execution_count": 4,
      "metadata": {
        "colab": {
          "base_uri": "https://localhost:8080/"
        },
        "id": "YongEAGg0ReS",
        "outputId": "edfe2798-42e6-40f6-82ab-48e9142de208"
      },
      "outputs": [
        {
          "name": "stdout",
          "output_type": "stream",
          "text": [
            "[('.', 2), ('This', 1), ('is', 1), ('a', 1), ('sample', 1), ('document', 1), ('It', 1), ('contains', 1), ('multiple', 1), ('sentences', 1)]\n"
          ]
        }
      ],
      "source": [
        "from nltk import FreqDist\n",
        "\n",
        "def calculate_word_frequency(document):\n",
        "    tokens = nltk.word_tokenize(document)\n",
        "    freq_dist = FreqDist(tokens)\n",
        "    return freq_dist\n",
        "\n",
        "# Example usage\n",
        "document = \"This is a sample document. It contains multiple sentences.\"\n",
        "word_frequency = calculate_word_frequency(document)\n",
        "print(word_frequency.most_common())\n"
      ]
    },
    {
      "cell_type": "markdown",
      "metadata": {
        "id": "r1LD_TNE0y0t"
      },
      "source": [
        "Task-3"
      ]
    },
    {
      "cell_type": "code",
      "execution_count": 5,
      "metadata": {
        "colab": {
          "base_uri": "https://localhost:8080/"
        },
        "id": "1JIR1EW80USn",
        "outputId": "5df23580-f94b-49a9-8a76-81a9f25b0738"
      },
      "outputs": [
        {
          "name": "stdout",
          "output_type": "stream",
          "text": [
            "run\n"
          ]
        }
      ],
      "source": [
        "from nltk.stem import PorterStemmer\n",
        "\n",
        "def perform_stemming(word):\n",
        "    stemmer = PorterStemmer()\n",
        "    stemmed_word = stemmer.stem(word)\n",
        "    return stemmed_word\n",
        "\n",
        "# Example usage\n",
        "word = \"running\"\n",
        "stemmed_word = perform_stemming(word)\n",
        "print(stemmed_word)\n"
      ]
    },
    {
      "cell_type": "markdown",
      "metadata": {
        "id": "p0SIDzdW01s7"
      },
      "source": [
        "Task-4"
      ]
    },
    {
      "cell_type": "code",
      "execution_count": 7,
      "metadata": {
        "colab": {
          "base_uri": "https://localhost:8080/"
        },
        "id": "eS4kPSDw0kXS",
        "outputId": "08745b81-b23c-4002-84a8-d44a6213335e"
      },
      "outputs": [
        {
          "name": "stderr",
          "output_type": "stream",
          "text": [
            "[nltk_data] Downloading package stopwords to /root/nltk_data...\n",
            "[nltk_data]   Unzipping corpora/stopwords.zip.\n"
          ]
        },
        {
          "data": {
            "text/plain": [
              "True"
            ]
          },
          "execution_count": 7,
          "metadata": {},
          "output_type": "execute_result"
        }
      ],
      "source": [
        "import nltk\n",
        "nltk.download('stopwords')"
      ]
    },
    {
      "cell_type": "code",
      "execution_count": 8,
      "metadata": {
        "colab": {
          "base_uri": "https://localhost:8080/"
        },
        "id": "RliXRoFq0b2i",
        "outputId": "38fd6b18-8a81-471f-d05d-1f8131584290"
      },
      "outputs": [
        {
          "name": "stdout",
          "output_type": "stream",
          "text": [
            "['sample', 'sentence', 'stopwords', '.']\n"
          ]
        }
      ],
      "source": [
        "from nltk.corpus import stopwords\n",
        "\n",
        "def remove_stopwords(sentence):\n",
        "    stop_words = set(stopwords.words('english'))\n",
        "    tokens = nltk.word_tokenize(sentence)\n",
        "    filtered_sentence = [word for word in tokens if word.lower() not in stop_words]\n",
        "    return filtered_sentence\n",
        "\n",
        "# Example usage\n",
        "sentence = \"This is a sample sentence with stopwords.\"\n",
        "filtered_sentence = remove_stopwords(sentence)\n",
        "print(filtered_sentence)\n"
      ]
    }
  ],
  "metadata": {
    "colab": {
      "provenance": []
    },
    "kernelspec": {
      "display_name": "Python 3.10.7 64-bit",
      "language": "python",
      "name": "python3"
    },
    "language_info": {
      "name": "python",
      "version": "3.10.7"
    },
    "vscode": {
      "interpreter": {
        "hash": "29d7a5379d0c4e8bc64f5b5441a21d950d4bb107c0300e699a87eb03d1358871"
      }
    }
  },
  "nbformat": 4,
  "nbformat_minor": 0
}
