{
 "cells": [
  {
   "cell_type": "markdown",
   "metadata": {},
   "source": [
    "task-1"
   ]
  },
  {
   "cell_type": "code",
   "execution_count": 5,
   "metadata": {},
   "outputs": [
    {
     "name": "stdout",
     "output_type": "stream",
     "text": [
      "       Name Occupation  Age  Gender\n",
      "0  Person 1   Engineer   30    Male\n",
      "1  Person 2   Engineer   20  Female\n",
      "2  Person 3    Teacher   27  Female\n",
      "3  Person 4     Doctor   50  Female\n",
      "4  Person 5     Doctor   39    Male\n"
     ]
    }
   ],
   "source": [
    "import pandas as pd\n",
    "import random\n",
    "\n",
    "    # Define the number of rows for the dataset\n",
    "num_rows = 100\n",
    "\n",
    "# Create a dictionary to store the data\n",
    "data = {\n",
    "    'Name': ['Person ' + str(i) for i in range(1, num_rows + 1)],\n",
    "    'Occupation': [random.choice(['Engineer', 'Teacher', 'Doctor', 'Artist']) for _ in range(num_rows)],\n",
    "    'Age': [random.randint(20, 60) for _ in range(num_rows)],\n",
    "    'Gender': [random.choice(['Male', 'Female']) for _ in range(num_rows)]\n",
    "}\n",
    "\n",
    "# Create a DataFrame from the dictionary\n",
    "df = pd.DataFrame(data)\n",
    "\n",
    "# Display the DataFrame\n",
    "print(df.head())\n"
   ]
  },
  {
   "cell_type": "markdown",
   "metadata": {},
   "source": [
    "Task-2"
   ]
  },
  {
   "cell_type": "code",
   "execution_count": 6,
   "metadata": {},
   "outputs": [
    {
     "name": "stdout",
     "output_type": "stream",
     "text": [
      "Length of Age column: 100\n"
     ]
    }
   ],
   "source": [
    "age_column_length = len(df['Age'])\n",
    "print(\"Length of Age column:\", age_column_length)"
   ]
  },
  {
   "cell_type": "markdown",
   "metadata": {},
   "source": [
    "Task-3"
   ]
  },
  {
   "cell_type": "code",
   "execution_count": 7,
   "metadata": {},
   "outputs": [
    {
     "name": "stdout",
     "output_type": "stream",
     "text": [
      "One-Hot Encoding:\n",
      "       Name Occupation  Age  Gender  Occupation_Engineer  Occupation_Teacher  \\\n",
      "0  Person 1   Engineer   30    Male                  0.0                 0.0   \n",
      "1  Person 2   Engineer   20  Female                  0.0                 0.0   \n",
      "2  Person 3    Teacher   27  Female                  0.0                 0.0   \n",
      "3  Person 4     Doctor   50  Female                  0.0                 1.0   \n",
      "4  Person 5     Doctor   39    Male                  0.0                 1.0   \n",
      "\n",
      "   Occupation_Doctor  Occupation_Artist  \n",
      "0                1.0                0.0  \n",
      "1                1.0                0.0  \n",
      "2                0.0                1.0  \n",
      "3                0.0                0.0  \n",
      "4                0.0                0.0  \n",
      "\n",
      "Label Encoding:\n",
      "       Name Occupation  Age  Gender  Gender_encoded\n",
      "0  Person 1   Engineer   30    Male               1\n",
      "1  Person 2   Engineer   20  Female               0\n",
      "2  Person 3    Teacher   27  Female               0\n",
      "3  Person 4     Doctor   50  Female               0\n",
      "4  Person 5     Doctor   39    Male               1\n",
      "\n",
      "Normalization:\n",
      "       Name Occupation  Age  Gender  Age_normalized\n",
      "0  Person 1   Engineer   30    Male           0.250\n",
      "1  Person 2   Engineer   20  Female           0.000\n",
      "2  Person 3    Teacher   27  Female           0.175\n",
      "3  Person 4     Doctor   50  Female           0.750\n",
      "4  Person 5     Doctor   39    Male           0.475\n",
      "\n",
      "Standard Scaling:\n",
      "       Name Occupation  Age  Gender  Age_scaled\n",
      "0  Person 1   Engineer   30    Male   -0.704144\n",
      "1  Person 2   Engineer   20  Female   -1.529635\n",
      "2  Person 3    Teacher   27  Female   -0.951791\n",
      "3  Person 4     Doctor   50  Female    0.946838\n",
      "4  Person 5     Doctor   39    Male    0.038798\n"
     ]
    }
   ],
   "source": [
    "from sklearn.compose import ColumnTransformer\n",
    "from sklearn.preprocessing import OneHotEncoder, LabelEncoder, MinMaxScaler, StandardScaler\n",
    "\n",
    "# Create separate DataFrames for each transformation\n",
    "onehot_df = df.copy()\n",
    "label_df = df.copy()\n",
    "norm_df = df.copy()\n",
    "scaled_df = df.copy()\n",
    "\n",
    "# Apply one-hot encoding\n",
    "onehot_encoder = OneHotEncoder(sparse=False)\n",
    "onehot_df[['Occupation_Engineer', 'Occupation_Teacher', 'Occupation_Doctor', 'Occupation_Artist']] = \\\n",
    "    onehot_encoder.fit_transform(df[['Occupation']])\n",
    "\n",
    "# Apply label encoding\n",
    "label_encoder = LabelEncoder()\n",
    "label_df['Gender_encoded'] = label_encoder.fit_transform(df['Gender'])\n",
    "\n",
    "# Apply normalization\n",
    "minmax_scaler = MinMaxScaler()\n",
    "norm_df['Age_normalized'] = minmax_scaler.fit_transform(df[['Age']])\n",
    "\n",
    "# Apply standard scaling\n",
    "standard_scaler = StandardScaler()\n",
    "scaled_df['Age_scaled'] = standard_scaler.fit_transform(df[['Age']])\n",
    "\n",
    "# Display the transformed DataFrames\n",
    "print(\"One-Hot Encoding:\")\n",
    "print(onehot_df.head())\n",
    "\n",
    "print(\"\\nLabel Encoding:\")\n",
    "print(label_df.head())\n",
    "\n",
    "print(\"\\nNormalization:\")\n",
    "print(norm_df.head())\n",
    "\n",
    "print(\"\\nStandard Scaling:\")\n",
    "print(scaled_df.head())\n"
   ]
  },
  {
   "cell_type": "markdown",
   "metadata": {},
   "source": [
    "task-4"
   ]
  },
  {
   "cell_type": "code",
   "execution_count": 8,
   "metadata": {},
   "outputs": [
    {
     "data": {
      "image/png": "[encoded data removed]",
      "text/plain": [
       "<Figure size 640x480 with 1 Axes>"
      ]
     },
     "metadata": {},
     "output_type": "display_data"
    }
   ],
   "source": [
    "import matplotlib.pyplot as plt\n",
    "\n",
    "gender_counts = df['Gender'].value_counts()\n",
    "\n",
    "plt.bar(gender_counts.index, gender_counts.values)\n",
    "plt.xlabel('Gender')\n",
    "plt.ylabel('Count')\n",
    "plt.title('Gender Distribution')\n",
    "plt.show()"
   ]
  }
 ],
 "metadata": {
  "kernelspec": {
   "display_name": "Python 3.10.7 64-bit",
   "language": "python",
   "name": "python3"
  },
  "language_info": {
   "name": "python",
   "version": "3.10.7"
  },
  "orig_nbformat": 4,
  "vscode": {
   "interpreter": {
    "hash": "29d7a5379d0c4e8bc64f5b5441a21d950d4bb107c0300e699a87eb03d1358871"
   }
  }
 },
 "nbformat": 4,
 "nbformat_minor": 2
}
