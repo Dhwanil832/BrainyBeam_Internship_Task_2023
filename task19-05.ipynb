{
 "cells": [
  {
   "cell_type": "markdown",
   "metadata": {},
   "source": [
    "Task-1"
   ]
  },
  {
   "cell_type": "code",
   "execution_count": 1,
   "metadata": {},
   "outputs": [
    {
     "name": "stdout",
     "output_type": "stream",
     "text": [
      "c:\\Users\\Dhwanil Chauhan\\Desktop\\internship\n",
      "  Name  Age Department  Salary\n",
      "0    A   44      Sales    4440\n",
      "1    B   45         HR    9132\n",
      "2    C   53         IT    3821\n",
      "3    D   59         IT    9289\n",
      "4    E   27    Finance    4662\n",
      "5    F   31      Sales    6168\n",
      "6    G   48         HR    5702\n",
      "7    H   32         IT    6587\n",
      "8    I   39    Finance    3896\n",
      "9    J   23         HR    5790\n"
     ]
    }
   ],
   "source": [
    "import pandas as pd\n",
    "import numpy as np\n",
    "\n",
    "# Create a dictionary with column names as keys and random data as values\n",
    "data = {\n",
    "    'Name': ['A', 'B', 'C', 'D', 'E', 'F', 'G', 'H', 'I', 'J'],\n",
    "    'Age': np.random.randint(20, 60, 10),\n",
    "    'Department': ['Sales', 'HR', 'IT', 'IT', 'Finance', 'Sales', 'HR', 'IT', 'Finance', 'HR'],\n",
    "    'Salary': np.random.randint(3000, 10000, 10)\n",
    "}\n",
    "\n",
    "# Create a DataFrame from the dictionary\n",
    "df = pd.DataFrame(data)\n",
    "\n",
    "print(df)\n"
   ]
  },
  {
   "cell_type": "markdown",
   "metadata": {},
   "source": [
    "Task-2"
   ]
  },
  {
   "cell_type": "code",
   "execution_count": 2,
   "metadata": {},
   "outputs": [
    {
     "name": "stdout",
     "output_type": "stream",
     "text": [
      "Total Revenue: 59487\n"
     ]
    }
   ],
   "source": [
    "total_revenue = df['Salary'].sum()\n",
    "print(\"Total Revenue:\", total_revenue)"
   ]
  },
  {
   "cell_type": "markdown",
   "metadata": {},
   "source": [
    "Task-3"
   ]
  },
  {
   "cell_type": "code",
   "execution_count": 3,
   "metadata": {},
   "outputs": [
    {
     "name": "stdout",
     "output_type": "stream",
     "text": [
      "Average Salary: 5948.7\n"
     ]
    }
   ],
   "source": [
    "average_salary = df['Salary'].mean()\n",
    "print(\"Average Salary:\", average_salary)"
   ]
  },
  {
   "cell_type": "markdown",
   "metadata": {},
   "source": [
    "Task-4"
   ]
  },
  {
   "cell_type": "code",
   "execution_count": 4,
   "metadata": {},
   "outputs": [
    {
     "name": "stdout",
     "output_type": "stream",
     "text": [
      "Name          object\n",
      "Age            int32\n",
      "Department    object\n",
      "Salary         int32\n",
      "dtype: object\n"
     ]
    }
   ],
   "source": [
    "data_types = df.dtypes\n",
    "print(data_types)"
   ]
  },
  {
   "cell_type": "markdown",
   "metadata": {},
   "source": [
    "one hot and lable encoder"
   ]
  },
  {
   "cell_type": "code",
   "execution_count": 5,
   "metadata": {},
   "outputs": [
    {
     "name": "stdout",
     "output_type": "stream",
     "text": [
      "   fixed acidity  volatile acidity  citric acid  residual sugar  chlorides  \\\n",
      "0            7.4              0.70         0.00             1.9      0.076   \n",
      "1            7.8              0.88         0.00             2.6      0.098   \n",
      "2            7.8              0.76         0.04             2.3      0.092   \n",
      "3           11.2              0.28         0.56             1.9      0.075   \n",
      "4            7.4              0.70         0.00             1.9      0.076   \n",
      "\n",
      "   free sulfur dioxide  total sulfur dioxide  density    pH  sulphates  \\\n",
      "0                 11.0                  34.0   0.9978  3.51       0.56   \n",
      "1                 25.0                  67.0   0.9968  3.20       0.68   \n",
      "2                 15.0                  54.0   0.9970  3.26       0.65   \n",
      "3                 17.0                  60.0   0.9980  3.16       0.58   \n",
      "4                 11.0                  34.0   0.9978  3.51       0.56   \n",
      "\n",
      "   alcohol  quality  Quality_Label  \n",
      "0      9.4        5              2  \n",
      "1      9.8        5              2  \n",
      "2      9.8        5              2  \n",
      "3      9.8        6              3  \n",
      "4      9.4        5              2  \n",
      "   fixed acidity  volatile acidity  citric acid  residual sugar  chlorides  \\\n",
      "0            7.4              0.70         0.00             1.9      0.076   \n",
      "1            7.8              0.88         0.00             2.6      0.098   \n",
      "2            7.8              0.76         0.04             2.3      0.092   \n",
      "3           11.2              0.28         0.56             1.9      0.075   \n",
      "4            7.4              0.70         0.00             1.9      0.076   \n",
      "\n",
      "   free sulfur dioxide  total sulfur dioxide  density    pH  sulphates  ...  \\\n",
      "0                 11.0                  34.0   0.9978  3.51       0.56  ...   \n",
      "1                 25.0                  67.0   0.9968  3.20       0.68  ...   \n",
      "2                 15.0                  54.0   0.9970  3.26       0.65  ...   \n",
      "3                 17.0                  60.0   0.9980  3.16       0.58  ...   \n",
      "4                 11.0                  34.0   0.9978  3.51       0.56  ...   \n",
      "\n",
      "   alcohol_13.0  alcohol_13.1  alcohol_13.2  alcohol_13.3  alcohol_13.4  \\\n",
      "0           0.0           0.0           0.0           0.0           0.0   \n",
      "1           0.0           0.0           0.0           0.0           0.0   \n",
      "2           0.0           0.0           0.0           0.0           0.0   \n",
      "3           0.0           0.0           0.0           0.0           0.0   \n",
      "4           0.0           0.0           0.0           0.0           0.0   \n",
      "\n",
      "   alcohol_13.5  alcohol_13.5666666666667  alcohol_13.6  alcohol_14.0  \\\n",
      "0           0.0                       0.0           0.0           0.0   \n",
      "1           0.0                       0.0           0.0           0.0   \n",
      "2           0.0                       0.0           0.0           0.0   \n",
      "3           0.0                       0.0           0.0           0.0   \n",
      "4           0.0                       0.0           0.0           0.0   \n",
      "\n",
      "   alcohol_14.9  \n",
      "0           0.0  \n",
      "1           0.0  \n",
      "2           0.0  \n",
      "3           0.0  \n",
      "4           0.0  \n",
      "\n",
      "[5 rows x 167 columns]\n"
     ]
    },
    {
     "name": "stderr",
     "output_type": "stream",
     "text": [
      "c:\\Users\\Dhwanil Chauhan\\AppData\\Local\\Programs\\Python\\Python310\\lib\\site-packages\\sklearn\\utils\\deprecation.py:87: FutureWarning: Function get_feature_names is deprecated; get_feature_names is deprecated in 1.0 and will be removed in 1.2. Please use get_feature_names_out instead.\n",
      "  warnings.warn(msg, category=FutureWarning)\n"
     ]
    }
   ],
   "source": [
    "import pandas as pd\n",
    "from sklearn.preprocessing import OneHotEncoder, LabelEncoder\n",
    "\n",
    "# Load the Wine Quality dataset\n",
    "wine_df = pd.read_csv('winequality.csv', delimiter=';')\n",
    "\n",
    "# Select the column to encode with label encoding\n",
    "label_column = 'quality'\n",
    "\n",
    "# Apply label encoding\n",
    "label_encoder = LabelEncoder()\n",
    "wine_df['Quality_Label'] = label_encoder.fit_transform(wine_df[label_column])\n",
    "\n",
    "# Display the encoded DataFrame with label encoding\n",
    "print(wine_df.head())\n",
    "\n",
    "# Select the columns to encode with one-hot encoding\n",
    "onehot_columns = ['pH', 'alcohol']\n",
    "\n",
    "# Apply one-hot encoding\n",
    "onehot_encoder = OneHotEncoder(sparse=False)\n",
    "encoded_features = onehot_encoder.fit_transform(wine_df[onehot_columns])\n",
    "\n",
    "# Create a new DataFrame with encoded features\n",
    "encoded_df = pd.DataFrame(encoded_features, columns=onehot_encoder.get_feature_names(onehot_columns))\n",
    "\n",
    "# Concatenate the encoded DataFrame with the original DataFrame\n",
    "wine_encoded_df = pd.concat([wine_df, encoded_df], axis=1)\n",
    "\n",
    "# Display the encoded DataFrame with one-hot encoding\n",
    "print(wine_encoded_df.head())"
   ]
  },
  {
   "cell_type": "markdown",
   "metadata": {},
   "source": [
    "normalisation and z-score"
   ]
  },
  {
   "cell_type": "code",
   "execution_count": 6,
   "metadata": {},
   "outputs": [
    {
     "name": "stdout",
     "output_type": "stream",
     "text": [
      "   fixed acidity  volatile acidity  citric acid  residual sugar  chlorides  \\\n",
      "0      -0.528360          0.961877    -1.391472       -0.453218  -0.243707   \n",
      "1      -0.298547          1.967442    -1.391472        0.043416   0.223875   \n",
      "2      -0.298547          1.297065    -1.186070       -0.169427   0.096353   \n",
      "3       1.654856         -1.384443     1.484154       -0.453218  -0.264960   \n",
      "4      -0.528360          0.961877    -1.391472       -0.453218  -0.243707   \n",
      "\n",
      "   free sulfur dioxide  total sulfur dioxide   density        pH  sulphates  \\\n",
      "0            -0.466193             -0.379133  0.558274  1.288643  -0.579207   \n",
      "1             0.872638              0.624363  0.028261 -0.719933   0.128950   \n",
      "2            -0.083669              0.229047  0.134264 -0.331177  -0.048089   \n",
      "3             0.107592              0.411500  0.664277 -0.979104  -0.461180   \n",
      "4            -0.466193             -0.379133  0.558274  1.288643  -0.579207   \n",
      "\n",
      "    alcohol  quality  \n",
      "0 -0.960246        5  \n",
      "1 -0.584777        5  \n",
      "2 -0.584777        5  \n",
      "3 -0.584777        6  \n",
      "4 -0.960246        5  \n"
     ]
    }
   ],
   "source": [
    "import pandas as pd\n",
    "from sklearn.preprocessing import MinMaxScaler, StandardScaler\n",
    "\n",
    "wine_df = pd.read_csv('winequality.csv', delimiter=';')\n",
    "\n",
    "# Extract the features to be scaled\n",
    "features = wine_df.drop('quality', axis=1)  # Exclude the 'quality' column from features\n",
    "\n",
    "# Normalize the features using Min-Max scaling\n",
    "normalizer = MinMaxScaler()\n",
    "normalized_features = normalizer.fit_transform(features)\n",
    "\n",
    "# Apply Z-score scaling on the normalized features\n",
    "scaler = StandardScaler()\n",
    "scaled_features = scaler.fit_transform(normalized_features)\n",
    "\n",
    "# Create a new DataFrame with the scaled features\n",
    "scaled_wine_df = pd.DataFrame(scaled_features, columns=features.columns)\n",
    "\n",
    "# Concatenate the scaled features with the 'quality' column if needed\n",
    "scaled_wine_df = pd.concat([scaled_wine_df, wine_df['quality']], axis=1)\n",
    "\n",
    "# Display the scaled Wine Quality dataset\n",
    "print(scaled_wine_df.head())\n"
   ]
  },
  {
   "cell_type": "code",
   "execution_count": null,
   "metadata": {},
   "outputs": [],
   "source": []
  }
 ],
 "metadata": {
  "kernelspec": {
   "display_name": "Python 3.10.7 64-bit",
   "language": "python",
   "name": "python3"
  },
  "language_info": {
   "codemirror_mode": {
    "name": "ipython",
    "version": 3
   },
   "file_extension": ".py",
   "mimetype": "text/x-python",
   "name": "python",
   "nbconvert_exporter": "python",
   "pygments_lexer": "ipython3",
   "version": "3.10.7"
  },
  "orig_nbformat": 4,
  "vscode": {
   "interpreter": {
    "hash": "29d7a5379d0c4e8bc64f5b5441a21d950d4bb107c0300e699a87eb03d1358871"
   }
  }
 },
 "nbformat": 4,
 "nbformat_minor": 2
}
